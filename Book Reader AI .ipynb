{
 "cells": [
  {
   "cell_type": "code",
   "execution_count": 46,
   "id": "5100ea0e",
   "metadata": {},
   "outputs": [],
   "source": [
    "from gpt_index import SimpleDirectoryReader, GPTListIndex, GPTSimpleVectorIndex, LLMPredictor, PromptHelper,  ServiceContext"
   ]
  },
  {
   "cell_type": "code",
   "execution_count": 4,
   "id": "309a1925",
   "metadata": {},
   "outputs": [],
   "source": [
    "from langchain import OpenAI"
   ]
  },
  {
   "cell_type": "code",
   "execution_count": 5,
   "id": "eeb258e3",
   "metadata": {},
   "outputs": [],
   "source": [
    "import sys\n",
    "import os"
   ]
  },
  {
   "cell_type": "code",
   "execution_count": null,
   "id": "0dc8c52a",
   "metadata": {},
   "outputs": [],
   "source": [
    "os.environ[\"OPENAI_API_KEY\"] = \"\""
   ]
  },
  {
   "cell_type": "code",
   "execution_count": 9,
   "id": "9b323741",
   "metadata": {},
   "outputs": [
    {
     "data": {
      "text/plain": [
       "['.DS_Store',\n",
       " 'Untitled.ipynb',\n",
       " 'knowledge',\n",
       " 'TestOpenAI.ipynb',\n",
       " 'sample.jpg',\n",
       " '.ipynb_checkpoints']"
      ]
     },
     "execution_count": 9,
     "metadata": {},
     "output_type": "execute_result"
    }
   ],
   "source": [
    "os.listdir()"
   ]
  },
  {
   "cell_type": "code",
   "execution_count": 54,
   "id": "73b2b670",
   "metadata": {},
   "outputs": [
    {
     "data": {
      "text/plain": [
       "'/Users/foosheeseng/notebook'"
      ]
     },
     "execution_count": 54,
     "metadata": {},
     "output_type": "execute_result"
    }
   ],
   "source": [
    "os.getcwd()"
   ]
  },
  {
   "cell_type": "code",
   "execution_count": 55,
   "id": "229c07d9",
   "metadata": {},
   "outputs": [
    {
     "name": "stdout",
     "output_type": "stream",
     "text": [
      "/Users/foosheeseng/notebook/knowledge\n"
     ]
    }
   ],
   "source": [
    "knowledgePath = os.getcwd() + '/knowledge'\n",
    "print(knowledgePath)"
   ]
  },
  {
   "cell_type": "code",
   "execution_count": 56,
   "id": "e3d0c60e",
   "metadata": {},
   "outputs": [
    {
     "data": {
      "text/plain": [
       "['frankenstein.txt', 'TheTimeMachine-HGWells.txt']"
      ]
     },
     "execution_count": 56,
     "metadata": {},
     "output_type": "execute_result"
    }
   ],
   "source": [
    "os.listdir(knowledgePath)"
   ]
  },
  {
   "cell_type": "code",
   "execution_count": 57,
   "id": "78a3ead7",
   "metadata": {},
   "outputs": [],
   "source": [
    "docs = SimpleDirectoryReader(knowledgePath).load_data()"
   ]
  },
  {
   "cell_type": "markdown",
   "id": "dc41b087",
   "metadata": {},
   "source": [
    "## Following def not useable"
   ]
  },
  {
   "cell_type": "code",
   "execution_count": 32,
   "id": "4fd3ed19",
   "metadata": {},
   "outputs": [],
   "source": [
    "\n",
    "def createVector(path):\n",
    "    max_input = 4096\n",
    "    tokens = 256\n",
    "    chunk_size = 600\n",
    "    max_chunk_overlap = 20\n",
    "    \n",
    "    prompt_helper = PromptHelper(max_input, tokens, max_chunk_overlap, chunk_size_limit=chunk_size)\n",
    "    \n",
    "    #define LLM\n",
    "    llmPredictor = LLMPredictor(llm=OpenAI(temperature=0, model_name=\"text-ada-003\", max_tokens=tokens)) \n",
    "    \n",
    "    #load data\n",
    "    docs = SimpleDirectoryReader(path).load_data()\n",
    "    \n",
    "    service_context = ServiceContext.from_defaults(llm_predictor=llmPredictor, chunk_size_limit=chunk_size)\n",
    "    #Create vector index\n",
    "    vectorIndex = GPTSimpleVectorIndex(docs,service_context=service_contect)# llmPredictor, prompt_helper=prompt_helper)\n",
    "    #GPTSimpleVectorIndex(docs=docs, )\n",
    "    vectorIndex.save_to_disk('vectorIndex.json')\n",
    "    return vectorIndex\n"
   ]
  },
  {
   "cell_type": "code",
   "execution_count": 58,
   "id": "d8471279",
   "metadata": {},
   "outputs": [],
   "source": [
    "max_input = 4096\n",
    "tokens = 256\n",
    "chunk_size = 600\n",
    "max_chunk_overlap = 20"
   ]
  },
  {
   "cell_type": "markdown",
   "id": "7d8250f3",
   "metadata": {},
   "source": [
    "### Use Service Context to pass LLMPredictor "
   ]
  },
  {
   "cell_type": "code",
   "execution_count": 59,
   "id": "663969f6",
   "metadata": {},
   "outputs": [],
   "source": [
    "prompt_helper = PromptHelper(max_input, tokens, max_chunk_overlap, chunk_size_limit=chunk_size)"
   ]
  },
  {
   "cell_type": "code",
   "execution_count": 60,
   "id": "2318a223",
   "metadata": {},
   "outputs": [],
   "source": [
    "llmPredictor = LLMPredictor(llm=OpenAI(temperature=0, model_name=\"text-ada-003\", max_tokens=tokens)) "
   ]
  },
  {
   "cell_type": "code",
   "execution_count": 61,
   "id": "f7ca2589",
   "metadata": {},
   "outputs": [],
   "source": [
    "service_context = ServiceContext.from_defaults(llm_predictor=llmPredictor, chunk_size_limit=chunk_size)"
   ]
  },
  {
   "cell_type": "code",
   "execution_count": 62,
   "id": "ac948878",
   "metadata": {},
   "outputs": [
    {
     "name": "stderr",
     "output_type": "stream",
     "text": [
      "INFO:gpt_index.token_counter.token_counter:> [build_index_from_nodes] Total LLM token usage: 0 tokens\n",
      "INFO:gpt_index.token_counter.token_counter:> [build_index_from_nodes] Total embedding token usage: 233071 tokens\n"
     ]
    }
   ],
   "source": [
    "vectorIndex = GPTSimpleVectorIndex.from_documents(docs, service_context=service_context)"
   ]
  },
  {
   "cell_type": "code",
   "execution_count": 63,
   "id": "8bfad9e9",
   "metadata": {},
   "outputs": [],
   "source": [
    "#vectorIndex.save_to_disk('TimeMachine.json')\n",
    "vectorIndex.save_to_disk('Books.json')"
   ]
  },
  {
   "cell_type": "code",
   "execution_count": 69,
   "id": "5af8c296",
   "metadata": {},
   "outputs": [],
   "source": [
    "def answerMe(vectorIndex):\n",
    "    vIndex = GPTSimpleVectorIndex.load_from_disk(vectorIndex)\n",
    "    \n",
    "    while True:\n",
    "        prompt = input(\"What's your question? : \")\n",
    "        if prompt == 'q':\n",
    "            print(\"Exiting\")\n",
    "            exit\n",
    "        else:\n",
    "            response = vIndex.query(prompt, response_mode=\"compact\")\n",
    "            print(f\"Response: {response} \\n\")\n",
    "        \n"
   ]
  },
  {
   "cell_type": "code",
   "execution_count": null,
   "id": "fe27fe2e",
   "metadata": {
    "scrolled": true
   },
   "outputs": [
    {
     "name": "stdout",
     "output_type": "stream",
     "text": [
      "What's your question? : what's the book about?\n"
     ]
    },
    {
     "name": "stderr",
     "output_type": "stream",
     "text": [
      "INFO:gpt_index.token_counter.token_counter:> [query] Total LLM token usage: 594 tokens\n",
      "INFO:gpt_index.token_counter.token_counter:> [query] Total embedding token usage: 6 tokens\n"
     ]
    },
    {
     "name": "stdout",
     "output_type": "stream",
     "text": [
      "Response: \n",
      "The book is about the history of the world, the different empires that have existed, the discovery of the Americas, the differences between powerful and virtuous people and those who are base and vicious, and the division of property and wealth. \n",
      "\n",
      "What's your question? : what is the book name?\n"
     ]
    },
    {
     "name": "stderr",
     "output_type": "stream",
     "text": [
      "INFO:gpt_index.token_counter.token_counter:> [query] Total LLM token usage: 569 tokens\n",
      "INFO:gpt_index.token_counter.token_counter:> [query] Total embedding token usage: 6 tokens\n"
     ]
    },
    {
     "name": "stdout",
     "output_type": "stream",
     "text": [
      "Response: \n",
      "The book name is The Time Machine. \n",
      "\n"
     ]
    }
   ],
   "source": [
    "answerMe('Books.json')"
   ]
  },
  {
   "cell_type": "code",
   "execution_count": null,
   "id": "28f3409e",
   "metadata": {},
   "outputs": [],
   "source": []
  }
 ],
 "metadata": {
  "kernelspec": {
   "display_name": "Python 3 (ipykernel)",
   "language": "python",
   "name": "python3"
  },
  "language_info": {
   "codemirror_mode": {
    "name": "ipython",
    "version": 3
   },
   "file_extension": ".py",
   "mimetype": "text/x-python",
   "name": "python",
   "nbconvert_exporter": "python",
   "pygments_lexer": "ipython3",
   "version": "3.10.1"
  }
 },
 "nbformat": 4,
 "nbformat_minor": 5
}
